{
 "cells": [
  {
   "cell_type": "markdown",
   "metadata": {},
   "source": [
    "## Mini-Batch and Modified MiniBatch\n",
    "### Imports"
   ]
  },
  {
   "cell_type": "code",
   "execution_count": 27,
   "metadata": {},
   "outputs": [],
   "source": [
    "import numpy as np\n",
    "import matplotlib as plt\n",
    "import math\n",
    "from random import*\n",
    "from numpy.testing import assert_almost_equal"
   ]
  },
  {
   "cell_type": "code",
   "execution_count": 28,
   "metadata": {},
   "outputs": [],
   "source": [
    "from collections import defaultdict"
   ]
  },
  {
   "cell_type": "code",
   "execution_count": 29,
   "metadata": {},
   "outputs": [],
   "source": [
    "def GA(n,d):\n",
    "    C = np.zeros((d,d)) # covariance matrix\n",
    "    for i in range(d):\n",
    "        for j in range(d):\n",
    "            C[i][j] = 2*(0.5**abs(i-j))\n",
    "    mean = np.ones(d)\n",
    "    X = np.random.multivariate_normal(mean,C,(n)) # this is A\n",
    "    beta = list()\n",
    "    beta.extend(np.ones(10))\n",
    "    beta.extend(0.1*np.ones(d-20))\n",
    "    beta.extend(np.ones(10))\n",
    "    beta = np.array(beta)\n",
    "    noise = np.random.normal(loc=0.0,scale =9,size=n)\n",
    "    y = X.dot(beta) + noise # this is b\n",
    "    return X,y"
   ]
  },
  {
   "cell_type": "code",
   "execution_count": 30,
   "metadata": {},
   "outputs": [],
   "source": [
    "def T3(n,d):\n",
    "    df = 3\n",
    "    C = np.zeros((d,d)) # covariance matrix\n",
    "    for i in range(d):\n",
    "        for j in range(d):\n",
    "            C[i][j] = 2*(0.5**abs(i-j))\n",
    "    mean = np.ones(d)\n",
    "    x = np.random.chisquare(df, n)/df\n",
    "    X = np.random.multivariate_normal(mean,C,(n))\n",
    "    X = X/np.sqrt(x)[:,None]\n",
    "    beta = list()\n",
    "    beta.extend(np.ones(10))\n",
    "    beta.extend(0.1*np.ones(d-20))\n",
    "    beta.extend(np.ones(10))\n",
    "    beta = np.array(beta)\n",
    "    noise = np.random.normal(loc=0.0,scale =9,size=n)\n",
    "    y = X.dot(beta) + noise # this is b\n",
    "    return X,y"
   ]
  },
  {
   "cell_type": "code",
   "execution_count": 31,
   "metadata": {},
   "outputs": [],
   "source": [
    "def T1(n,d):\n",
    "    df = 1\n",
    "    C = np.zeros((d,d)) # covariance matrix\n",
    "    for i in range(d):\n",
    "        for j in range(d):\n",
    "            C[i][j] = 2*(0.5**abs(i-j))\n",
    "    mean = np.ones(d)\n",
    "    x = np.random.chisquare(df, n)/df\n",
    "    X = np.random.multivariate_normal(mean,C,(n))\n",
    "    X = X/np.sqrt(x)[:,None]\n",
    "    beta = list()\n",
    "    beta.extend(np.ones(10))\n",
    "    beta.extend(0.1*np.ones(d-20))\n",
    "    beta.extend(np.ones(10))\n",
    "    beta = np.array(beta)\n",
    "    noise = np.random.normal(loc=0.0,scale =9,size=n)\n",
    "    y = X.dot(beta) + noise # this is b\n",
    "    \n",
    "    return X,y"
   ]
  },
  {
   "cell_type": "markdown",
   "metadata": {},
   "source": [
    "# Given Inputs:\n",
    "### b: batch size\n",
    "### k: number of cluster\n",
    "### t: number of iteration"
   ]
  },
  {
   "cell_type": "code",
   "execution_count": 32,
   "metadata": {},
   "outputs": [],
   "source": [
    "batch_size = int(input('enter the batch size: '))\n",
    "k = int(input('enter number of cluster required: '))\n",
    "t = int(input('enter number of iterations: '))"
   ]
  },
  {
   "cell_type": "code",
   "execution_count": 33,
   "metadata": {},
   "outputs": [],
   "source": [
    "n = int(input('# rows = '))\n",
    "d = int(input('# columns = '))"
   ]
  },
  {
   "cell_type": "code",
   "execution_count": 92,
   "metadata": {},
   "outputs": [],
   "source": [
    "def mini_batch(Cluster_centre):\n",
    "    global Matrix\n",
    "    global k,batch_size\n",
    "    global mini_batch_cost\n",
    "    v = np.zeros(Cluster_centre.shape[0])\n",
    "    for i in range(10):\n",
    "        totalCost_mini_batch=0\n",
    "        rows = Matrix.shape[0]\n",
    "        index = np.random.choice(rows,batch_size,replace=False)\n",
    "        M = Matrix[index,:]\n",
    "        dx = np.zeros(M.shape[0])# for storing the nearest cluster\n",
    "        dist = np.full((M.shape[0]), np.inf)\n",
    "        \n",
    "        for point in range(M.shape[0]):\n",
    "            for cc in range(k):\n",
    "                eucd_dist = np.square(np.linalg.norm(M[point]-Cluster_centre[cc],ord=2))\n",
    "                if(eucd_dist < dist[point]):\n",
    "                    dx[point] = cc\n",
    "                    dist[point]=eucd_dist\n",
    "        #print(dx)\n",
    "        for point in range(M.shape[0]):\n",
    "            nearest_cluster = Cluster_centre[int(dx[point])]\n",
    "            v[int(dx[point])] +=1\n",
    "            n = 1/v[int(dx[point])]\n",
    "            Cluster_centre[int(dx[point])] = Cluster_centre[int(dx[point])]*(1-n)  + np.multiply(M[point],n)\n",
    "            \n",
    "        for x in Matrix:\n",
    "            min_dist = np.inf\n",
    "            for c in Cluster_centre:\n",
    "                eucd_dist = np.square(np.linalg.norm(x-c,ord=2))\n",
    "                if(min_dist>eucd_dist):\n",
    "                    min_dist=eucd_dist\n",
    "            totalCost_mini_batch +=min_dist\n",
    "        mini_batch_cost[i].append(totalCost_mini_batch)\n",
    "        #print(\"Iteration\",i)\n",
    "        #print(\"Total Cost----\",totalCost_mini_batch)"
   ]
  },
  {
   "cell_type": "markdown",
   "metadata": {},
   "source": [
    "## Implementing modified Mini-Batch"
   ]
  },
  {
   "cell_type": "code",
   "execution_count": 93,
   "metadata": {},
   "outputs": [],
   "source": [
    "def modified_MB(Cluster_centre):\n",
    "    global Matrix,k,modified_mb_cost\n",
    "    \n",
    "    v = np.zeros(Cluster_centre.shape[0])\n",
    "    prob = computeProb(Cluster_centre,Matrix)\n",
    "    \n",
    "    for i in range(10):\n",
    "        totalCost_modified_mini_batch=0\n",
    "        index = np.random.choice(Matrix.shape[0],batch_size,replace=False,p=prob)\n",
    "        M = Matrix[index,:]\n",
    "        dx = np.zeros(M.shape[0])# for storing the nearest cluster\n",
    "        dist = np.full((M.shape[0]), np.inf)\n",
    "        \n",
    "        for point in range(M.shape[0]):\n",
    "            for cc in range(k):\n",
    "                eucd_dist = np.square(np.linalg.norm(M[point]-Cluster_centre[cc],ord=2))\n",
    "                if(eucd_dist < dist[point]):\n",
    "                    dx[point] = cc\n",
    "                    dist[point]=eucd_dist\n",
    "                    \n",
    "        for point in range(M.shape[0]):\n",
    "            nearest_cluster = Cluster_centre[int(dx[point])]\n",
    "            v[int(dx[point])] +=1\n",
    "            n = 1/v[int(dx[point])]\n",
    "            Cluster_centre[int(dx[point])] = Cluster_centre[int(dx[point])]*(1-n)  + np.multiply(M[point],n)\n",
    "            \n",
    "        for x in Matrix:\n",
    "            min_dist = np.inf\n",
    "            for c in Cluster_centre:\n",
    "                eucd_dist = np.square(np.linalg.norm(x-c,ord=2))\n",
    "                if(min_dist>eucd_dist):\n",
    "                    min_dist=eucd_dist\n",
    "            totalCost_modified_mini_batch +=min_dist    \n",
    "        modified_mb_cost[i].append(totalCost_modified_mini_batch)\n",
    "        #print(\"Iteration\",i)\n",
    "        #print(\"Total Cost----\",totalCost_modified_mini_batch)\n",
    "        "
   ]
  },
  {
   "cell_type": "code",
   "execution_count": 36,
   "metadata": {},
   "outputs": [],
   "source": [
    "def computeProb(CC,Data):\n",
    "    prob = np.zeros(Data.shape[0])\n",
    "    total_cost = 0\n",
    "    for i in range(Data.shape[0]):\n",
    "        min_dist=np.inf\n",
    "        for c in CC:\n",
    "            eucd_dist = np.square(np.linalg.norm(Data[i]-c,ord=2))\n",
    "            if(min_dist>eucd_dist):\n",
    "                min_dist=eucd_dist\n",
    "        total_cost +=min_dist\n",
    "        prob[i]=min_dist\n",
    "    return prob/total_cost"
   ]
  },
  {
   "cell_type": "markdown",
   "metadata": {},
   "source": [
    "### Utility Functions\n",
    "#### printing for printing data\n",
    "#### run_ to run for both the algos implemented"
   ]
  },
  {
   "cell_type": "code",
   "execution_count": 98,
   "metadata": {},
   "outputs": [],
   "source": [
    "def printing(data):\n",
    "    for i in range(t):\n",
    "        #print(\"Iteration:\",i)\n",
    "        print(sum(data[i])/100)"
   ]
  },
  {
   "cell_type": "code",
   "execution_count": 99,
   "metadata": {},
   "outputs": [],
   "source": [
    "def run_():\n",
    "    global Matrix,mini_batch_cost,modified_mb_cost\n",
    "    for l in range(100):\n",
    "        indexes = np.random.choice(Matrix.shape[0],k)\n",
    "        CC = Matrix[indexes,:] # cluster_centre\n",
    "        mini_batch(CC)\n",
    "        modified_MB(CC)\n",
    "    printing(mini_batch_cost)\n",
    "    print(\"$\")\n",
    "    print(\"----Modified Mini_Batch Begin\")\n",
    "    print(\"$\")\n",
    "    printing(modified_mb_cost)"
   ]
  },
  {
   "cell_type": "markdown",
   "metadata": {},
   "source": [
    "### Data Near Uniform: GA"
   ]
  },
  {
   "cell_type": "code",
   "execution_count": 100,
   "metadata": {},
   "outputs": [
    {
     "name": "stdout",
     "output_type": "stream",
     "text": [
      "69820.03572949566\n",
      "62035.25569095423\n",
      "58276.70477894798\n",
      "56254.772449629236\n",
      "54896.22938855754\n",
      "53903.793707624245\n",
      "53246.10489516998\n",
      "52685.09595907712\n",
      "52241.02466515771\n",
      "51872.7936999876\n",
      "$\n",
      "----Modified Mini_Batch Begin\n",
      "$\n",
      "64395.615375343616\n",
      "59492.358032105345\n",
      "56622.7708718217\n",
      "54807.67833546546\n",
      "53578.086999797764\n",
      "52721.77971206426\n",
      "52120.535970435674\n",
      "51615.2911535418\n",
      "51206.38043337346\n",
      "50907.743428655725\n"
     ]
    }
   ],
   "source": [
    "A,b = GA(n,d)\n",
    "Matrix = np.c_[A,b]\n",
    "mini_batch_cost=defaultdict(list) # mini_batch distionary of list\n",
    "modified_mb_cost=defaultdict(list) # modified_mini_batch dictionary of list\n",
    "run_()"
   ]
  },
  {
   "cell_type": "markdown",
   "metadata": {},
   "source": [
    "### Data Moderatey Uniform"
   ]
  },
  {
   "cell_type": "code",
   "execution_count": 101,
   "metadata": {},
   "outputs": [
    {
     "name": "stdout",
     "output_type": "stream",
     "text": [
      "373970.2725574194\n",
      "338761.4885193971\n",
      "320498.4032100612\n",
      "307718.3206512904\n",
      "299603.4209715184\n",
      "293997.22834357346\n",
      "289258.81372532115\n",
      "285502.09216413664\n",
      "281696.08360582776\n",
      "279094.340920616\n",
      "$\n",
      "----Modified Mini_Batch Begin\n",
      "$\n",
      "267663.1647266214\n",
      "240660.21536463327\n",
      "225456.18055306384\n",
      "216146.4771409298\n",
      "208642.61075100233\n",
      "203697.80977459744\n",
      "199870.04922532348\n",
      "196595.20081522546\n",
      "193998.68045401803\n",
      "191876.31457941557\n"
     ]
    }
   ],
   "source": [
    "A,b = T3(n,d)\n",
    "Matrix = np.c_[A,b]\n",
    "mini_batch_cost=defaultdict(list) # mini_batch distionary of list\n",
    "modified_mb_cost=defaultdict(list) # modified_mini_batch dictionary of list\n",
    "run_()"
   ]
  },
  {
   "cell_type": "markdown",
   "metadata": {},
   "source": [
    "### Data Very Non-Uniform"
   ]
  },
  {
   "cell_type": "code",
   "execution_count": 102,
   "metadata": {},
   "outputs": [
    {
     "name": "stdout",
     "output_type": "stream",
     "text": [
      "7357500295.741517\n",
      "7316034930.508034\n",
      "7188112433.643279\n",
      "7008500544.006056\n",
      "6842777992.855482\n",
      "6821794041.249037\n",
      "6755236508.555392\n",
      "6635735617.170813\n",
      "6617195124.903004\n",
      "6577716882.58208\n",
      "$\n",
      "----Modified Mini_Batch Begin\n",
      "$\n",
      "4546922374.559704\n",
      "3775814641.973122\n",
      "3290882410.235468\n",
      "2960813313.1239414\n",
      "2720956680.3880806\n",
      "2538424274.13589\n",
      "2394772955.844936\n",
      "2271967524.022173\n",
      "2162627553.6947703\n",
      "2063851361.6311743\n"
     ]
    }
   ],
   "source": [
    "A,b = T1(n,d)\n",
    "Matrix = np.c_[A,b]\n",
    "mini_batch_cost=defaultdict(list) # mini_batch distionary of list\n",
    "modified_mb_cost=defaultdict(list) # modified_mini_batch dictionary of list\n",
    "run_()"
   ]
  },
  {
   "cell_type": "code",
   "execution_count": null,
   "metadata": {},
   "outputs": [],
   "source": []
  }
 ],
 "metadata": {
  "kernelspec": {
   "display_name": "PY35",
   "language": "python",
   "name": "ml-lib"
  },
  "language_info": {
   "codemirror_mode": {
    "name": "ipython",
    "version": 3
   },
   "file_extension": ".py",
   "mimetype": "text/x-python",
   "name": "python",
   "nbconvert_exporter": "python",
   "pygments_lexer": "ipython3",
   "version": "3.5.4"
  }
 },
 "nbformat": 4,
 "nbformat_minor": 2
}
