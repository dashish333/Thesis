{
 "cells": [
  {
   "cell_type": "markdown",
   "metadata": {},
   "source": [
    "## Mini-Batch and Modified MiniBatch\n",
    "### Imports"
   ]
  },
  {
   "cell_type": "code",
   "execution_count": 1,
   "metadata": {},
   "outputs": [],
   "source": [
    "import numpy as np\n",
    "import matplotlib as plt\n",
    "import math\n",
    "from random import*\n",
    "from numpy.testing import assert_almost_equal"
   ]
  },
  {
   "cell_type": "code",
   "execution_count": 2,
   "metadata": {},
   "outputs": [],
   "source": [
    "def GA(n,d):\n",
    "    C = np.zeros((d,d)) # covariance matrix\n",
    "    for i in range(d):\n",
    "        for j in range(d):\n",
    "            C[i][j] = 2*(0.5**abs(i-j))\n",
    "    mean = np.ones(d)\n",
    "    X = np.random.multivariate_normal(mean,C,(n)) # this is A\n",
    "    beta = list()\n",
    "    beta.extend(np.ones(10))\n",
    "    beta.extend(0.1*np.ones(d-20))\n",
    "    beta.extend(np.ones(10))\n",
    "    beta = np.array(beta)\n",
    "    noise = np.random.normal(loc=0.0,scale =9,size=n)\n",
    "    y = X.dot(beta) + noise # this is b\n",
    "    return X,y"
   ]
  },
  {
   "cell_type": "code",
   "execution_count": 3,
   "metadata": {},
   "outputs": [],
   "source": [
    "def T3(n,d):\n",
    "    df = 3\n",
    "    C = np.zeros((d,d)) # covariance matrix\n",
    "    for i in range(d):\n",
    "        for j in range(d):\n",
    "            C[i][j] = 2*(0.5**abs(i-j))\n",
    "    mean = np.ones(d)\n",
    "    x = np.random.chisquare(df, n)/df\n",
    "    X = np.random.multivariate_normal(mean,C,(n))\n",
    "    X = X/np.sqrt(x)[:,None]\n",
    "    beta = list()\n",
    "    beta.extend(np.ones(10))\n",
    "    beta.extend(0.1*np.ones(d-20))\n",
    "    beta.extend(np.ones(10))\n",
    "    beta = np.array(beta)\n",
    "    noise = np.random.normal(loc=0.0,scale =9,size=n)\n",
    "    y = X.dot(beta) + noise # this is b\n",
    "    return X,y"
   ]
  },
  {
   "cell_type": "code",
   "execution_count": 4,
   "metadata": {},
   "outputs": [],
   "source": [
    "def T1(n,d):\n",
    "    df = 1\n",
    "    C = np.zeros((d,d)) # covariance matrix\n",
    "    for i in range(d):\n",
    "        for j in range(d):\n",
    "            C[i][j] = 2*(0.5**abs(i-j))\n",
    "    mean = np.ones(d)\n",
    "    x = np.random.chisquare(df, n)/df\n",
    "    X = np.random.multivariate_normal(mean,C,(n))\n",
    "    X = X/np.sqrt(x)[:,None]\n",
    "    beta = list()\n",
    "    beta.extend(np.ones(10))\n",
    "    beta.extend(0.1*np.ones(d-20))\n",
    "    beta.extend(np.ones(10))\n",
    "    beta = np.array(beta)\n",
    "    noise = np.random.normal(loc=0.0,scale =9,size=n)\n",
    "    y = X.dot(beta) + noise # this is b\n",
    "    \n",
    "    return X,y"
   ]
  },
  {
   "cell_type": "markdown",
   "metadata": {},
   "source": [
    "# Given Inputs:\n",
    "### b: batch size\n",
    "### k: number of cluster\n",
    "### t: number of iteration"
   ]
  },
  {
   "cell_type": "code",
   "execution_count": 5,
   "metadata": {},
   "outputs": [],
   "source": [
    "batch_size = int(input('enter the batch size: '))\n",
    "k = int(input('enter number of cluster required: '))\n",
    "t = int(input('enter number of iterations: '))"
   ]
  },
  {
   "cell_type": "code",
   "execution_count": 6,
   "metadata": {},
   "outputs": [],
   "source": [
    "n = int(input('# rows = '))\n",
    "d = int(input('# columns = '))"
   ]
  },
  {
   "cell_type": "code",
   "execution_count": 7,
   "metadata": {},
   "outputs": [],
   "source": [
    "def mini_batch():\n",
    "    global Cluster_centre,Matrix,k\n",
    "    v = np.zeros(Cluster_centre.shape[0])\n",
    "    for i in range(10):\n",
    "        totalCost_mini_batch=0\n",
    "        rows = Matrix.shape[0]\n",
    "        index = np.random.choice(rows,batch_size,replace=False)\n",
    "        M = Matrix[index,:]\n",
    "        dx = np.zeros(M.shape[0])# for storing the nearest cluster\n",
    "        dist = np.full((M.shape[0]), np.inf)\n",
    "        \n",
    "        for point in range(M.shape[0]):\n",
    "            for cc in range(k):\n",
    "                eucd_dist = np.square(np.linalg.norm(M[point]-Cluster_centre[cc],ord=2))\n",
    "                if(eucd_dist < dist[point]):\n",
    "                    dx[point] = cc\n",
    "                    dist[point]=eucd_dist\n",
    "        #print(dx)\n",
    "        for point in range(M.shape[0]):\n",
    "            nearest_cluster = Cluster_centre[int(dx[point])]\n",
    "            v[int(dx[point])] +=1\n",
    "            n = 1/v[int(dx[point])]\n",
    "            Cluster_centre[int(dx[point])] = Cluster_centre[int(dx[point])]*(1-n)  + np.multiply(M[point],n)\n",
    "            \n",
    "        for x in Matrix:\n",
    "            min_dist = np.inf\n",
    "            for c in Cluster_centre:\n",
    "                eucd_dist = np.square(np.linalg.norm(x-c,ord=2))\n",
    "                if(min_dist>eucd_dist):\n",
    "                    min_dist=eucd_dist\n",
    "            totalCost_mini_batch +=min_dist\n",
    "        print(\"Iteration\",i)\n",
    "        print(\"Total Cost----\",totalCost_mini_batch)"
   ]
  },
  {
   "cell_type": "markdown",
   "metadata": {},
   "source": [
    "## Implementing modified Mini-Batch"
   ]
  },
  {
   "cell_type": "code",
   "execution_count": 8,
   "metadata": {},
   "outputs": [],
   "source": [
    "def modified_MB():\n",
    "    global Cluster_centre,Matrix,k\n",
    "    v = np.zeros(Cluster_centre.shape[0])\n",
    "    prob = computeProb(Cluster_centre,Matrix)\n",
    "    for i in range(10):\n",
    "        totalCost_modified_mini_batch=0\n",
    "        index = np.random.choice(Matrix.shape[0],batch_size,replace=False,p=prob)\n",
    "        M = Matrix[index,:]\n",
    "        dx = np.zeros(M.shape[0])# for storing the nearest cluster\n",
    "        dist = np.full((M.shape[0]), np.inf)\n",
    "        \n",
    "        for point in range(M.shape[0]):\n",
    "            for cc in range(k):\n",
    "                eucd_dist = np.square(np.linalg.norm(M[point]-Cluster_centre[cc],ord=2))\n",
    "                if(eucd_dist < dist[point]):\n",
    "                    dx[point] = cc\n",
    "                    dist[point]=eucd_dist\n",
    "                    \n",
    "        for point in range(M.shape[0]):\n",
    "            nearest_cluster = Cluster_centre[int(dx[point])]\n",
    "            v[int(dx[point])] +=1\n",
    "            n = 1/v[int(dx[point])]\n",
    "            Cluster_centre[int(dx[point])] = Cluster_centre[int(dx[point])]*(1-n)  + np.multiply(M[point],n)\n",
    "            \n",
    "        for x in Matrix:\n",
    "            min_dist = np.inf\n",
    "            for c in Cluster_centre:\n",
    "                eucd_dist = np.square(np.linalg.norm(x-c,ord=2))\n",
    "                if(min_dist>eucd_dist):\n",
    "                    min_dist=eucd_dist\n",
    "            totalCost_modified_mini_batch +=min_dist\n",
    "        print(\"Iteration\",i)\n",
    "        print(\"Total Cost----\",totalCost_modified_mini_batch)"
   ]
  },
  {
   "cell_type": "code",
   "execution_count": 9,
   "metadata": {},
   "outputs": [],
   "source": [
    "def computeProb(CC,Data):\n",
    "    prob = np.zeros(Data.shape[0])\n",
    "    total_cost = 0\n",
    "    for i in range(Data.shape[0]):\n",
    "        min_dist=np.inf\n",
    "        for c in CC:\n",
    "            eucd_dist = np.square(np.linalg.norm(Data[i]-c,ord=2))\n",
    "            if(min_dist>eucd_dist):\n",
    "                min_dist=eucd_dist\n",
    "        total_cost +=min_dist\n",
    "        prob[i]=min_dist\n",
    "    return prob/total_cost"
   ]
  },
  {
   "cell_type": "markdown",
   "metadata": {},
   "source": [
    "### Data Near Uniform: GA"
   ]
  },
  {
   "cell_type": "code",
   "execution_count": 10,
   "metadata": {},
   "outputs": [],
   "source": [
    "A,b = GA(n,d)\n",
    "Matrix = np.c_[A,b]\n",
    "indexes = np.random.choice(Matrix.shape[0],k)\n",
    "Cluster_centre = Matrix[indexes,:]"
   ]
  },
  {
   "cell_type": "code",
   "execution_count": 11,
   "metadata": {},
   "outputs": [
    {
     "name": "stdout",
     "output_type": "stream",
     "text": [
      "Iteration 0\n",
      "Total Cost---- 343588.9394863283\n",
      "Iteration 1\n",
      "Total Cost---- 313596.2467425782\n",
      "Iteration 2\n",
      "Total Cost---- 296297.40185575275\n",
      "Iteration 3\n",
      "Total Cost---- 283502.03865349694\n",
      "Iteration 4\n",
      "Total Cost---- 277689.6736670269\n",
      "Iteration 5\n",
      "Total Cost---- 273946.1467253812\n",
      "Iteration 6\n",
      "Total Cost---- 271051.5043327612\n",
      "Iteration 7\n",
      "Total Cost---- 268566.24246084224\n",
      "Iteration 8\n",
      "Total Cost---- 264400.6908516976\n",
      "Iteration 9\n",
      "Total Cost---- 264055.787280249\n"
     ]
    }
   ],
   "source": [
    "mini_batch()"
   ]
  },
  {
   "cell_type": "code",
   "execution_count": 12,
   "metadata": {},
   "outputs": [
    {
     "name": "stdout",
     "output_type": "stream",
     "text": [
      "Iteration 0\n",
      "Total Cost---- 335501.99659586645\n",
      "Iteration 1\n",
      "Total Cost---- 305912.5924311203\n",
      "Iteration 2\n",
      "Total Cost---- 292039.34515037783\n",
      "Iteration 3\n",
      "Total Cost---- 282175.7262333858\n",
      "Iteration 4\n",
      "Total Cost---- 276864.6886378493\n",
      "Iteration 5\n",
      "Total Cost---- 271155.10921418783\n",
      "Iteration 6\n",
      "Total Cost---- 268863.7053346334\n",
      "Iteration 7\n",
      "Total Cost---- 266324.6095860981\n",
      "Iteration 8\n",
      "Total Cost---- 262912.1099116412\n",
      "Iteration 9\n",
      "Total Cost---- 261697.96633287575\n"
     ]
    }
   ],
   "source": [
    "modified_MB()"
   ]
  },
  {
   "cell_type": "markdown",
   "metadata": {},
   "source": [
    "### Data Moderatey Uniform"
   ]
  },
  {
   "cell_type": "code",
   "execution_count": 13,
   "metadata": {},
   "outputs": [],
   "source": [
    "A,b = T3(n,d)\n",
    "Matrix = np.c_[A,b]\n",
    "indexes = np.random.choice(Matrix.shape[0],k)\n",
    "Cluster_centre = Matrix[indexes,:]"
   ]
  },
  {
   "cell_type": "code",
   "execution_count": 14,
   "metadata": {},
   "outputs": [
    {
     "name": "stdout",
     "output_type": "stream",
     "text": [
      "Iteration 0\n",
      "Total Cost---- 1601173.3263358143\n",
      "Iteration 1\n",
      "Total Cost---- 1537109.2402090544\n",
      "Iteration 2\n",
      "Total Cost---- 1510503.324110093\n",
      "Iteration 3\n",
      "Total Cost---- 1379258.2554521752\n",
      "Iteration 4\n",
      "Total Cost---- 1368540.503347455\n",
      "Iteration 5\n",
      "Total Cost---- 1307832.047341842\n",
      "Iteration 6\n",
      "Total Cost---- 1305440.6482441593\n",
      "Iteration 7\n",
      "Total Cost---- 1261757.2792936054\n",
      "Iteration 8\n",
      "Total Cost---- 1256401.84173533\n",
      "Iteration 9\n",
      "Total Cost---- 1254930.3505263075\n"
     ]
    }
   ],
   "source": [
    "mini_batch()"
   ]
  },
  {
   "cell_type": "code",
   "execution_count": 15,
   "metadata": {},
   "outputs": [
    {
     "name": "stdout",
     "output_type": "stream",
     "text": [
      "Iteration 0\n",
      "Total Cost---- 1347414.66617503\n",
      "Iteration 1\n",
      "Total Cost---- 1257636.9137802008\n",
      "Iteration 2\n",
      "Total Cost---- 1133643.1847305747\n",
      "Iteration 3\n",
      "Total Cost---- 1169675.8668203435\n",
      "Iteration 4\n",
      "Total Cost---- 1210898.2041265373\n",
      "Iteration 5\n",
      "Total Cost---- 1167368.2893259248\n",
      "Iteration 6\n",
      "Total Cost---- 1112523.1326488748\n",
      "Iteration 7\n",
      "Total Cost---- 1062384.4661968246\n",
      "Iteration 8\n",
      "Total Cost---- 1053769.0515050392\n",
      "Iteration 9\n",
      "Total Cost---- 1009887.7230271802\n"
     ]
    }
   ],
   "source": [
    "modified_MB()"
   ]
  },
  {
   "cell_type": "markdown",
   "metadata": {},
   "source": [
    "### Data Very Non-Uniform"
   ]
  },
  {
   "cell_type": "code",
   "execution_count": 16,
   "metadata": {},
   "outputs": [],
   "source": [
    "A,b = T1(n,d)\n",
    "Matrix = np.c_[A,b]\n",
    "indexes = np.random.choice(Matrix.shape[0],k)\n",
    "Cluster_centre = Matrix[indexes,:]"
   ]
  },
  {
   "cell_type": "code",
   "execution_count": 17,
   "metadata": {},
   "outputs": [
    {
     "name": "stdout",
     "output_type": "stream",
     "text": [
      "Iteration 0\n",
      "Total Cost---- 54744240675.55991\n",
      "Iteration 1\n",
      "Total Cost---- 54716722255.32324\n",
      "Iteration 2\n",
      "Total Cost---- 54716590604.33299\n",
      "Iteration 3\n",
      "Total Cost---- 54712412054.69331\n",
      "Iteration 4\n",
      "Total Cost---- 54646671240.64488\n",
      "Iteration 5\n",
      "Total Cost---- 54646223155.11331\n",
      "Iteration 6\n",
      "Total Cost---- 54645597694.54866\n",
      "Iteration 7\n",
      "Total Cost---- 53544495658.775345\n",
      "Iteration 8\n",
      "Total Cost---- 53543742420.78437\n",
      "Iteration 9\n",
      "Total Cost---- 53543748102.16358\n"
     ]
    }
   ],
   "source": [
    "mini_batch()"
   ]
  },
  {
   "cell_type": "code",
   "execution_count": 18,
   "metadata": {},
   "outputs": [
    {
     "name": "stdout",
     "output_type": "stream",
     "text": [
      "Iteration 0\n",
      "Total Cost---- 28223615618.19861\n",
      "Iteration 1\n",
      "Total Cost---- 23719946847.087116\n",
      "Iteration 2\n",
      "Total Cost---- 22229734667.199688\n",
      "Iteration 3\n",
      "Total Cost---- 21581166728.90958\n",
      "Iteration 4\n",
      "Total Cost---- 21223389293.24581\n",
      "Iteration 5\n",
      "Total Cost---- 20833905022.297077\n",
      "Iteration 6\n",
      "Total Cost---- 20619883290.74041\n",
      "Iteration 7\n",
      "Total Cost---- 20459060387.54444\n",
      "Iteration 8\n",
      "Total Cost---- 20354173538.964417\n",
      "Iteration 9\n",
      "Total Cost---- 20277616034.985195\n"
     ]
    }
   ],
   "source": [
    "modified_MB()"
   ]
  },
  {
   "cell_type": "code",
   "execution_count": null,
   "metadata": {},
   "outputs": [],
   "source": []
  }
 ],
 "metadata": {
  "kernelspec": {
   "display_name": "PY35",
   "language": "python",
   "name": "ml-lib"
  },
  "language_info": {
   "codemirror_mode": {
    "name": "ipython",
    "version": 3
   },
   "file_extension": ".py",
   "mimetype": "text/x-python",
   "name": "python",
   "nbconvert_exporter": "python",
   "pygments_lexer": "ipython3",
   "version": "3.5.4"
  }
 },
 "nbformat": 4,
 "nbformat_minor": 2
}
